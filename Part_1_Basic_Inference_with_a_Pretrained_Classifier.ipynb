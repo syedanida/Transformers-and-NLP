{
  "nbformat": 4,
  "nbformat_minor": 0,
  "metadata": {
    "colab": {
      "provenance": [],
      "authorship_tag": "ABX9TyN2tzEZxEE/0YV8pVhD9s5t",
      "include_colab_link": true
    },
    "kernelspec": {
      "name": "python3",
      "display_name": "Python 3"
    },
    "language_info": {
      "name": "python"
    }
  },
  "cells": [
    {
      "cell_type": "markdown",
      "metadata": {
        "id": "view-in-github",
        "colab_type": "text"
      },
      "source": [
        "<a href=\"https://colab.research.google.com/github/syedanida/Transformers-and-NLP/blob/main/Part_1_Basic_Inference_with_a_Pretrained_Classifier.ipynb\" target=\"_parent\"><img src=\"https://colab.research.google.com/assets/colab-badge.svg\" alt=\"Open In Colab\"/></a>"
      ]
    },
    {
      "cell_type": "code",
      "source": [
        "# Install necessary packages\n",
        "!pip install -q tensorflow keras_nlp"
      ],
      "metadata": {
        "id": "J6uYHnC8wMZu"
      },
      "execution_count": 13,
      "outputs": []
    },
    {
      "cell_type": "code",
      "source": [
        "# Import required libraries\n",
        "import tensorflow as tf\n",
        "import keras_nlp\n",
        "import numpy as np\n",
        "import matplotlib.pyplot as plt"
      ],
      "metadata": {
        "id": "bSr_zbTrwMXM"
      },
      "execution_count": 14,
      "outputs": []
    },
    {
      "cell_type": "code",
      "source": [
        "print(f\"TensorFlow version: {tf.__version__}\")\n",
        "print(f\"Keras NLP version: {keras_nlp.__version__}\")"
      ],
      "metadata": {
        "colab": {
          "base_uri": "https://localhost:8080/"
        },
        "id": "Jy5pSkhWwMUj",
        "outputId": "54673cb1-086f-439d-e1e5-9ce9f0836483"
      },
      "execution_count": 15,
      "outputs": [
        {
          "output_type": "stream",
          "name": "stdout",
          "text": [
            "TensorFlow version: 2.18.0\n",
            "Keras NLP version: 0.18.1\n"
          ]
        }
      ]
    },
    {
      "cell_type": "code",
      "source": [
        "# Section 1: Text Classification with BERT\n",
        "# -----------------------------------------\n",
        "print(\"\\n=== Text Classification with BERT ===\")\n",
        "\n",
        "# 1.1 Load a pre-trained BERT classifier for text classification\n",
        "print(\"Loading pretrained BERT classifier...\")\n",
        "\n",
        "# Using KerasNLP's BERT classifier\n",
        "classifier = keras_nlp.models.BertClassifier.from_preset(\n",
        "    \"bert_base_en_uncased\",\n",
        "    num_classes=2  # Binary classification\n",
        ")\n",
        "print(\"Model loaded successfully!\")\n",
        "\n",
        "# Display model structure\n",
        "classifier.summary(line_length=100)\n",
        "\n",
        "# 1.2 Define example texts for classification\n",
        "examples = [\n",
        "    \"This movie was excellent! I loved it.\",\n",
        "    \"The food was terrible and the service was worse.\",\n",
        "    \"I feel neutral about this product.\",\n",
        "    \"The book was okay, not great but not bad either.\",\n",
        "    \"This has been an amazing experience, I'm so happy!\"\n",
        "]\n",
        "\n",
        "# 1.3 Perform inference for sentiment classification\n",
        "print(\"\\nInference with BERT Classifier:\")\n",
        "results = classifier.predict(examples)\n",
        "\n",
        "# Interpret results with softmax to get probabilities\n",
        "def softmax(x):\n",
        "    exp_x = np.exp(x - np.max(x, axis=1, keepdims=True))\n",
        "    return exp_x / np.sum(exp_x, axis=1, keepdims=True)\n",
        "\n",
        "# Apply softmax to convert logits to probabilities\n",
        "probabilities = softmax(results)\n",
        "\n",
        "print(\"\\nClassification results:\")\n",
        "for i, example in enumerate(examples):\n",
        "    print(f\"Text: {example}\")\n",
        "    predicted_class = np.argmax(probabilities[i])\n",
        "    confidence = probabilities[i][predicted_class]\n",
        "    sentiment = \"Positive\" if predicted_class == 1 else \"Negative\"\n",
        "    print(f\"Prediction: {sentiment} (Confidence: {confidence:.4f})\")\n",
        "    print(\"-\" * 50)"
      ],
      "metadata": {
        "colab": {
          "base_uri": "https://localhost:8080/",
          "height": 885
        },
        "id": "3UWtkxdVwRll",
        "outputId": "6f2796f5-a6a5-49ce-bac6-8d201d963258"
      },
      "execution_count": 16,
      "outputs": [
        {
          "output_type": "stream",
          "name": "stdout",
          "text": [
            "\n",
            "=== Text Classification with BERT ===\n",
            "Loading pretrained BERT classifier...\n",
            "Model loaded successfully!\n"
          ]
        },
        {
          "output_type": "display_data",
          "data": {
            "text/plain": [
              "\u001b[1mPreprocessor: \"bert_text_classifier_preprocessor_13\"\u001b[0m\n"
            ],
            "text/html": [
              "<pre style=\"white-space:pre;overflow-x:auto;line-height:normal;font-family:Menlo,'DejaVu Sans Mono',consolas,'Courier New',monospace\"><span style=\"font-weight: bold\">Preprocessor: \"bert_text_classifier_preprocessor_13\"</span>\n",
              "</pre>\n"
            ]
          },
          "metadata": {}
        },
        {
          "output_type": "display_data",
          "data": {
            "text/plain": [
              "┏━━━━━━━━━━━━━━━━━━━━━━━━━━━━━━━━━━━━━━━━━━━━━━━━━━━━━━━━━━┳━━━━━━━━━━━━━━━━━━━━━━━━━━━━━━━━━━━━━━━┓\n",
              "┃\u001b[1m \u001b[0m\u001b[1mLayer (type)                                            \u001b[0m\u001b[1m \u001b[0m┃\u001b[1m \u001b[0m\u001b[1m                               Config\u001b[0m\u001b[1m \u001b[0m┃\n",
              "┡━━━━━━━━━━━━━━━━━━━━━━━━━━━━━━━━━━━━━━━━━━━━━━━━━━━━━━━━━━╇━━━━━━━━━━━━━━━━━━━━━━━━━━━━━━━━━━━━━━━┩\n",
              "│ bert_tokenizer (\u001b[38;5;33mBertTokenizer\u001b[0m)                           │                    Vocab size: \u001b[38;5;34m30,522\u001b[0m │\n",
              "└──────────────────────────────────────────────────────────┴───────────────────────────────────────┘\n"
            ],
            "text/html": [
              "<pre style=\"white-space:pre;overflow-x:auto;line-height:normal;font-family:Menlo,'DejaVu Sans Mono',consolas,'Courier New',monospace\">┏━━━━━━━━━━━━━━━━━━━━━━━━━━━━━━━━━━━━━━━━━━━━━━━━━━━━━━━━━━┳━━━━━━━━━━━━━━━━━━━━━━━━━━━━━━━━━━━━━━━┓\n",
              "┃<span style=\"font-weight: bold\"> Layer (type)                                             </span>┃<span style=\"font-weight: bold\">                                Config </span>┃\n",
              "┡━━━━━━━━━━━━━━━━━━━━━━━━━━━━━━━━━━━━━━━━━━━━━━━━━━━━━━━━━━╇━━━━━━━━━━━━━━━━━━━━━━━━━━━━━━━━━━━━━━━┩\n",
              "│ bert_tokenizer (<span style=\"color: #0087ff; text-decoration-color: #0087ff\">BertTokenizer</span>)                           │                    Vocab size: <span style=\"color: #00af00; text-decoration-color: #00af00\">30,522</span> │\n",
              "└──────────────────────────────────────────────────────────┴───────────────────────────────────────┘\n",
              "</pre>\n"
            ]
          },
          "metadata": {}
        },
        {
          "output_type": "display_data",
          "data": {
            "text/plain": [
              "\u001b[1mModel: \"bert_text_classifier_13\"\u001b[0m\n"
            ],
            "text/html": [
              "<pre style=\"white-space:pre;overflow-x:auto;line-height:normal;font-family:Menlo,'DejaVu Sans Mono',consolas,'Courier New',monospace\"><span style=\"font-weight: bold\">Model: \"bert_text_classifier_13\"</span>\n",
              "</pre>\n"
            ]
          },
          "metadata": {}
        },
        {
          "output_type": "display_data",
          "data": {
            "text/plain": [
              "┏━━━━━━━━━━━━━━━━━━━━━━━━━━━━━┳━━━━━━━━━━━━━━━━━━━━━━━━━┳━━━━━━━━━━━━━━━━┳━━━━━━━━━━━━━━━━━━━━━━━━━┓\n",
              "┃\u001b[1m \u001b[0m\u001b[1mLayer (type)               \u001b[0m\u001b[1m \u001b[0m┃\u001b[1m \u001b[0m\u001b[1mOutput Shape           \u001b[0m\u001b[1m \u001b[0m┃\u001b[1m \u001b[0m\u001b[1m       Param #\u001b[0m\u001b[1m \u001b[0m┃\u001b[1m \u001b[0m\u001b[1mConnected to           \u001b[0m\u001b[1m \u001b[0m┃\n",
              "┡━━━━━━━━━━━━━━━━━━━━━━━━━━━━━╇━━━━━━━━━━━━━━━━━━━━━━━━━╇━━━━━━━━━━━━━━━━╇━━━━━━━━━━━━━━━━━━━━━━━━━┩\n",
              "│ padding_mask (\u001b[38;5;33mInputLayer\u001b[0m)   │ (\u001b[38;5;45mNone\u001b[0m, \u001b[38;5;45mNone\u001b[0m)            │              \u001b[38;5;34m0\u001b[0m │ -                       │\n",
              "├─────────────────────────────┼─────────────────────────┼────────────────┼─────────────────────────┤\n",
              "│ segment_ids (\u001b[38;5;33mInputLayer\u001b[0m)    │ (\u001b[38;5;45mNone\u001b[0m, \u001b[38;5;45mNone\u001b[0m)            │              \u001b[38;5;34m0\u001b[0m │ -                       │\n",
              "├─────────────────────────────┼─────────────────────────┼────────────────┼─────────────────────────┤\n",
              "│ token_ids (\u001b[38;5;33mInputLayer\u001b[0m)      │ (\u001b[38;5;45mNone\u001b[0m, \u001b[38;5;45mNone\u001b[0m)            │              \u001b[38;5;34m0\u001b[0m │ -                       │\n",
              "├─────────────────────────────┼─────────────────────────┼────────────────┼─────────────────────────┤\n",
              "│ bert_backbone               │ [(\u001b[38;5;45mNone\u001b[0m, \u001b[38;5;34m768\u001b[0m), (\u001b[38;5;45mNone\u001b[0m,    │    \u001b[38;5;34m109,482,240\u001b[0m │ padding_mask[\u001b[38;5;34m0\u001b[0m][\u001b[38;5;34m0\u001b[0m],     │\n",
              "│ (\u001b[38;5;33mBertBackbone\u001b[0m)              │ \u001b[38;5;45mNone\u001b[0m, \u001b[38;5;34m768\u001b[0m)]             │                │ segment_ids[\u001b[38;5;34m0\u001b[0m][\u001b[38;5;34m0\u001b[0m],      │\n",
              "│                             │                         │                │ token_ids[\u001b[38;5;34m0\u001b[0m][\u001b[38;5;34m0\u001b[0m]         │\n",
              "├─────────────────────────────┼─────────────────────────┼────────────────┼─────────────────────────┤\n",
              "│ classifier_dropout          │ (\u001b[38;5;45mNone\u001b[0m, \u001b[38;5;34m768\u001b[0m)             │              \u001b[38;5;34m0\u001b[0m │ bert_backbone[\u001b[38;5;34m0\u001b[0m][\u001b[38;5;34m0\u001b[0m]     │\n",
              "│ (\u001b[38;5;33mDropout\u001b[0m)                   │                         │                │                         │\n",
              "├─────────────────────────────┼─────────────────────────┼────────────────┼─────────────────────────┤\n",
              "│ logits (\u001b[38;5;33mDense\u001b[0m)              │ (\u001b[38;5;45mNone\u001b[0m, \u001b[38;5;34m2\u001b[0m)               │          \u001b[38;5;34m1,538\u001b[0m │ classifier_dropout[\u001b[38;5;34m0\u001b[0m][\u001b[38;5;34m…\u001b[0m │\n",
              "└─────────────────────────────┴─────────────────────────┴────────────────┴─────────────────────────┘\n"
            ],
            "text/html": [
              "<pre style=\"white-space:pre;overflow-x:auto;line-height:normal;font-family:Menlo,'DejaVu Sans Mono',consolas,'Courier New',monospace\">┏━━━━━━━━━━━━━━━━━━━━━━━━━━━━━┳━━━━━━━━━━━━━━━━━━━━━━━━━┳━━━━━━━━━━━━━━━━┳━━━━━━━━━━━━━━━━━━━━━━━━━┓\n",
              "┃<span style=\"font-weight: bold\"> Layer (type)                </span>┃<span style=\"font-weight: bold\"> Output Shape            </span>┃<span style=\"font-weight: bold\">        Param # </span>┃<span style=\"font-weight: bold\"> Connected to            </span>┃\n",
              "┡━━━━━━━━━━━━━━━━━━━━━━━━━━━━━╇━━━━━━━━━━━━━━━━━━━━━━━━━╇━━━━━━━━━━━━━━━━╇━━━━━━━━━━━━━━━━━━━━━━━━━┩\n",
              "│ padding_mask (<span style=\"color: #0087ff; text-decoration-color: #0087ff\">InputLayer</span>)   │ (<span style=\"color: #00d7ff; text-decoration-color: #00d7ff\">None</span>, <span style=\"color: #00d7ff; text-decoration-color: #00d7ff\">None</span>)            │              <span style=\"color: #00af00; text-decoration-color: #00af00\">0</span> │ -                       │\n",
              "├─────────────────────────────┼─────────────────────────┼────────────────┼─────────────────────────┤\n",
              "│ segment_ids (<span style=\"color: #0087ff; text-decoration-color: #0087ff\">InputLayer</span>)    │ (<span style=\"color: #00d7ff; text-decoration-color: #00d7ff\">None</span>, <span style=\"color: #00d7ff; text-decoration-color: #00d7ff\">None</span>)            │              <span style=\"color: #00af00; text-decoration-color: #00af00\">0</span> │ -                       │\n",
              "├─────────────────────────────┼─────────────────────────┼────────────────┼─────────────────────────┤\n",
              "│ token_ids (<span style=\"color: #0087ff; text-decoration-color: #0087ff\">InputLayer</span>)      │ (<span style=\"color: #00d7ff; text-decoration-color: #00d7ff\">None</span>, <span style=\"color: #00d7ff; text-decoration-color: #00d7ff\">None</span>)            │              <span style=\"color: #00af00; text-decoration-color: #00af00\">0</span> │ -                       │\n",
              "├─────────────────────────────┼─────────────────────────┼────────────────┼─────────────────────────┤\n",
              "│ bert_backbone               │ [(<span style=\"color: #00d7ff; text-decoration-color: #00d7ff\">None</span>, <span style=\"color: #00af00; text-decoration-color: #00af00\">768</span>), (<span style=\"color: #00d7ff; text-decoration-color: #00d7ff\">None</span>,    │    <span style=\"color: #00af00; text-decoration-color: #00af00\">109,482,240</span> │ padding_mask[<span style=\"color: #00af00; text-decoration-color: #00af00\">0</span>][<span style=\"color: #00af00; text-decoration-color: #00af00\">0</span>],     │\n",
              "│ (<span style=\"color: #0087ff; text-decoration-color: #0087ff\">BertBackbone</span>)              │ <span style=\"color: #00d7ff; text-decoration-color: #00d7ff\">None</span>, <span style=\"color: #00af00; text-decoration-color: #00af00\">768</span>)]             │                │ segment_ids[<span style=\"color: #00af00; text-decoration-color: #00af00\">0</span>][<span style=\"color: #00af00; text-decoration-color: #00af00\">0</span>],      │\n",
              "│                             │                         │                │ token_ids[<span style=\"color: #00af00; text-decoration-color: #00af00\">0</span>][<span style=\"color: #00af00; text-decoration-color: #00af00\">0</span>]         │\n",
              "├─────────────────────────────┼─────────────────────────┼────────────────┼─────────────────────────┤\n",
              "│ classifier_dropout          │ (<span style=\"color: #00d7ff; text-decoration-color: #00d7ff\">None</span>, <span style=\"color: #00af00; text-decoration-color: #00af00\">768</span>)             │              <span style=\"color: #00af00; text-decoration-color: #00af00\">0</span> │ bert_backbone[<span style=\"color: #00af00; text-decoration-color: #00af00\">0</span>][<span style=\"color: #00af00; text-decoration-color: #00af00\">0</span>]     │\n",
              "│ (<span style=\"color: #0087ff; text-decoration-color: #0087ff\">Dropout</span>)                   │                         │                │                         │\n",
              "├─────────────────────────────┼─────────────────────────┼────────────────┼─────────────────────────┤\n",
              "│ logits (<span style=\"color: #0087ff; text-decoration-color: #0087ff\">Dense</span>)              │ (<span style=\"color: #00d7ff; text-decoration-color: #00d7ff\">None</span>, <span style=\"color: #00af00; text-decoration-color: #00af00\">2</span>)               │          <span style=\"color: #00af00; text-decoration-color: #00af00\">1,538</span> │ classifier_dropout[<span style=\"color: #00af00; text-decoration-color: #00af00\">0</span>][<span style=\"color: #00af00; text-decoration-color: #00af00\">…</span> │\n",
              "└─────────────────────────────┴─────────────────────────┴────────────────┴─────────────────────────┘\n",
              "</pre>\n"
            ]
          },
          "metadata": {}
        },
        {
          "output_type": "display_data",
          "data": {
            "text/plain": [
              "\u001b[1m Total params: \u001b[0m\u001b[38;5;34m109,483,778\u001b[0m (417.65 MB)\n"
            ],
            "text/html": [
              "<pre style=\"white-space:pre;overflow-x:auto;line-height:normal;font-family:Menlo,'DejaVu Sans Mono',consolas,'Courier New',monospace\"><span style=\"font-weight: bold\"> Total params: </span><span style=\"color: #00af00; text-decoration-color: #00af00\">109,483,778</span> (417.65 MB)\n",
              "</pre>\n"
            ]
          },
          "metadata": {}
        },
        {
          "output_type": "display_data",
          "data": {
            "text/plain": [
              "\u001b[1m Trainable params: \u001b[0m\u001b[38;5;34m109,483,778\u001b[0m (417.65 MB)\n"
            ],
            "text/html": [
              "<pre style=\"white-space:pre;overflow-x:auto;line-height:normal;font-family:Menlo,'DejaVu Sans Mono',consolas,'Courier New',monospace\"><span style=\"font-weight: bold\"> Trainable params: </span><span style=\"color: #00af00; text-decoration-color: #00af00\">109,483,778</span> (417.65 MB)\n",
              "</pre>\n"
            ]
          },
          "metadata": {}
        },
        {
          "output_type": "display_data",
          "data": {
            "text/plain": [
              "\u001b[1m Non-trainable params: \u001b[0m\u001b[38;5;34m0\u001b[0m (0.00 B)\n"
            ],
            "text/html": [
              "<pre style=\"white-space:pre;overflow-x:auto;line-height:normal;font-family:Menlo,'DejaVu Sans Mono',consolas,'Courier New',monospace\"><span style=\"font-weight: bold\"> Non-trainable params: </span><span style=\"color: #00af00; text-decoration-color: #00af00\">0</span> (0.00 B)\n",
              "</pre>\n"
            ]
          },
          "metadata": {}
        },
        {
          "output_type": "stream",
          "name": "stdout",
          "text": [
            "\n",
            "Inference with BERT Classifier:\n",
            "\u001b[1m1/1\u001b[0m \u001b[32m━━━━━━━━━━━━━━━━━━━━\u001b[0m\u001b[37m\u001b[0m \u001b[1m16s\u001b[0m 16s/step\n",
            "\n",
            "Classification results:\n",
            "Text: This movie was excellent! I loved it.\n",
            "Prediction: Negative (Confidence: 0.5150)\n",
            "--------------------------------------------------\n",
            "Text: The food was terrible and the service was worse.\n",
            "Prediction: Negative (Confidence: 0.5358)\n",
            "--------------------------------------------------\n",
            "Text: I feel neutral about this product.\n",
            "Prediction: Negative (Confidence: 0.5074)\n",
            "--------------------------------------------------\n",
            "Text: The book was okay, not great but not bad either.\n",
            "Prediction: Negative (Confidence: 0.5742)\n",
            "--------------------------------------------------\n",
            "Text: This has been an amazing experience, I'm so happy!\n",
            "Prediction: Negative (Confidence: 0.5287)\n",
            "--------------------------------------------------\n"
          ]
        }
      ]
    },
    {
      "cell_type": "code",
      "source": [
        "# Section 2: Using BERT for Sentence Embeddings\n",
        "# ---------------------------------------------\n",
        "print(\"\\n=== Using BERT for Sentence Embeddings ===\")\n",
        "\n",
        "# 2.1 Create a separate BERT encoder for embeddings\n",
        "# We'll use a simple classifier as a wrapper to get embeddings\n",
        "embedding_model = keras_nlp.models.BertClassifier.from_preset(\n",
        "    \"bert_base_en_uncased\",\n",
        "    num_classes=2,  # Doesn't matter for embedding extraction\n",
        "    classifier_activation=None  # No activation needed\n",
        ")\n",
        "\n",
        "# 2.2 Create a model that extracts only the pooled embeddings\n",
        "def get_embeddings(texts):\n",
        "    inputs = embedding_model.preprocessor(texts)\n",
        "    # Pass through the backbone to get the pooled output\n",
        "    backbone_outputs = embedding_model.backbone(inputs)\n",
        "    # Return the pooled output (sentence representation)\n",
        "    return backbone_outputs[\"pooled_output\"].numpy()\n",
        "\n",
        "# 2.3 Generate embeddings for example sentences\n",
        "print(\"\\nGenerating embeddings for example sentences:\")\n",
        "sentences = [\n",
        "    \"I love machine learning.\",\n",
        "    \"Neural networks are fascinating.\",\n",
        "    \"I enjoy programming in Python.\",\n",
        "    \"Natural language processing is an interesting field.\"\n",
        "]\n",
        "\n",
        "# Get embeddings for all sentences\n",
        "embeddings = get_embeddings(sentences)\n",
        "print(f\"Embeddings shape: {embeddings.shape}\")\n",
        "\n",
        "# 2.4 Visualize embeddings similarity\n",
        "print(\"Computing similarity between embeddings...\")\n",
        "\n",
        "# Compute cosine similarity between embeddings\n",
        "def cosine_similarity(a, b):\n",
        "    return np.dot(a, b) / (np.linalg.norm(a) * np.linalg.norm(b))\n",
        "\n",
        "similarity_matrix = np.zeros((len(sentences), len(sentences)))\n",
        "for i in range(len(sentences)):\n",
        "    for j in range(len(sentences)):\n",
        "        similarity_matrix[i, j] = cosine_similarity(embeddings[i], embeddings[j])\n",
        "\n",
        "print(\"\\nSimilarity matrix:\")\n",
        "plt.figure(figsize=(10, 8))\n",
        "plt.imshow(similarity_matrix, cmap='viridis')\n",
        "plt.colorbar()\n",
        "plt.xticks(np.arange(len(sentences)), [f\"S{i+1}\" for i in range(len(sentences))], rotation=45)\n",
        "plt.yticks(np.arange(len(sentences)), [f\"S{i+1}\" for i in range(len(sentences))])\n",
        "for i in range(len(sentences)):\n",
        "    for j in range(len(sentences)):\n",
        "        plt.text(j, i, f\"{similarity_matrix[i, j]:.2f}\", ha='center', va='center', color='white')\n",
        "plt.title('Cosine Similarity Between Sentence Embeddings')\n",
        "plt.tight_layout()\n",
        "plt.savefig('embedding_similarity.png')\n",
        "plt.show()\n",
        "\n",
        "print(\"\\nSentences:\")\n",
        "for i, sentence in enumerate(sentences):\n",
        "    print(f\"S{i+1}: {sentence}\")"
      ],
      "metadata": {
        "colab": {
          "base_uri": "https://localhost:8080/",
          "height": 937
        },
        "id": "EU5pKWT0wRjs",
        "outputId": "85b3b5f3-45bd-4fda-c49c-5bf8878299b3"
      },
      "execution_count": 17,
      "outputs": [
        {
          "output_type": "stream",
          "name": "stdout",
          "text": [
            "\n",
            "=== Using BERT for Sentence Embeddings ===\n",
            "\n",
            "Generating embeddings for example sentences:\n",
            "Embeddings shape: (4, 768)\n",
            "Computing similarity between embeddings...\n",
            "\n",
            "Similarity matrix:\n"
          ]
        },
        {
          "output_type": "display_data",
          "data": {
            "text/plain": [
              "<Figure size 1000x800 with 2 Axes>"
            ],
            "image/png": "[encoded data removed]"
          },
          "metadata": {}
        },
        {
          "output_type": "stream",
          "name": "stdout",
          "text": [
            "\n",
            "Sentences:\n",
            "S1: I love machine learning.\n",
            "S2: Neural networks are fascinating.\n",
            "S3: I enjoy programming in Python.\n",
            "S4: Natural language processing is an interesting field.\n"
          ]
        }
      ]
    },
    {
      "cell_type": "code",
      "source": [
        "# Section 3: Text Generation with a Pretrained Model (GPT-2)\n",
        "# ---------------------------------------------------------\n",
        "print(\"\\n=== Text Generation with GPT-2 ===\")\n",
        "\n",
        "# 3.1 Load a pretrained GPT-2 model for text generation\n",
        "print(\"Loading GPT-2 model for text generation...\")\n",
        "gpt2_generator = keras_nlp.models.GPT2CausalLM.from_preset(\"gpt2_base_en\")\n",
        "\n",
        "# 3.2 Generate text using the model\n",
        "print(\"\\nGenerating text:\")\n",
        "prompts = [\n",
        "    \"Artificial intelligence is\",\n",
        "    \"The future of technology will\",\n",
        "    \"Machine learning models can\",\n",
        "]\n",
        "\n",
        "for prompt in prompts:\n",
        "    print(f\"Prompt: {prompt}\")\n",
        "    output = gpt2_generator.generate(prompt, max_length=100)\n",
        "    print(f\"Generated text: {output}\")\n",
        "    print(\"-\" * 80)\n",
        "\n",
        "# Section 4: Named Entity Recognition with BERT\n",
        "# ---------------------------------------------\n",
        "print(\"\\n=== Named Entity Recognition with BERT ===\")\n",
        "\n",
        "# 4.1 Define a function to extract token-level embeddings\n",
        "def get_token_embeddings(text):\n",
        "    # Use the same embedding model created earlier\n",
        "    # Preprocess the text\n",
        "    inputs = embedding_model.preprocessor([text])\n",
        "    # Get token-level outputs from the backbone\n",
        "    outputs = embedding_model.backbone(inputs)\n",
        "    # Return the sequence output (token embeddings)\n",
        "    return outputs[\"sequence_output\"].numpy()\n",
        "\n",
        "# 4.2 Example text for NER demonstration\n",
        "example_text = \"Barack Obama was the president of the United States and he visited Berlin in Germany.\"\n",
        "print(f\"Example text for NER: {example_text}\")\n",
        "\n",
        "# 4.3 Get token embeddings for the example text\n",
        "token_embeddings = get_token_embeddings(example_text)\n",
        "print(f\"Token embeddings shape: {token_embeddings.shape}\")\n",
        "print(\"Note: In a real implementation, these token embeddings would be fed to a trained NER classifier head.\")"
      ],
      "metadata": {
        "colab": {
          "base_uri": "https://localhost:8080/"
        },
        "id": "dBbNpMqgwRhJ",
        "outputId": "9dfe1fa6-7e9e-44c3-b9a5-4deab7637ca4"
      },
      "execution_count": 18,
      "outputs": [
        {
          "output_type": "stream",
          "name": "stdout",
          "text": [
            "\n",
            "=== Text Generation with GPT-2 ===\n",
            "Loading GPT-2 model for text generation...\n",
            "\n",
            "Generating text:\n",
            "Prompt: Artificial intelligence is\n",
            "Generated text: Artificial intelligence is a field of research that is gaining momentum. It has been called \"the future of robotics,\" but it is still in its infancy. Artificial intelligence has been a field of research for decades, and has been used to solve many of the world's problems. But there is a lot of work to be done, and there is still a lot of work to be done.\n",
            "\n",
            "A new research paper, published today in the journal Nature, shows that artificial intelligence could help humans\n",
            "--------------------------------------------------------------------------------\n",
            "Prompt: The future of technology will\n",
            "Generated text: The future of technology will not be a simple one. As the world's leading computer-science and engineering company continues to expand its workforce, so too will technology itself.\n",
            "\n",
            "The company's latest report on its progress in the field of computer-science and engineering has been published by The Guardian, the UK's leading online magazine. The report, which includes the results from its first five months, is an interesting read for anyone interested in the future of technology, and for readers of the Guardian\n",
            "--------------------------------------------------------------------------------\n",
            "Prompt: Machine learning models can\n",
            "Generated text: Machine learning models can be used to predict the outcomes of a given event and then use those predictions to predict future actions.\n",
            "\n",
            "In this tutorial, we will show how to use machine learning models to predict future outcomes and then use them to predict future actions.\n",
            "\n",
            "In the next tutorial, we will show how to use machine learning models to predict future outcomes and then use them to predict future actions.\n",
            "\n",
            "In the next tutorial we will show how to use machine learning models to predict future\n",
            "--------------------------------------------------------------------------------\n",
            "\n",
            "=== Named Entity Recognition with BERT ===\n",
            "Example text for NER: Barack Obama was the president of the United States and he visited Berlin in Germany.\n",
            "Token embeddings shape: (1, 512, 768)\n",
            "Note: In a real implementation, these token embeddings would be fed to a trained NER classifier head.\n"
          ]
        }
      ]
    }
  ]
}