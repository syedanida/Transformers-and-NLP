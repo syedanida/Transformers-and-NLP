{
  "cells": [
    {
      "cell_type": "markdown",
      "metadata": {
        "id": "view-in-github",
        "colab_type": "text"
      },
      "source": [
        "<a href=\"https://colab.research.google.com/github/syedanida/Transformers-and-NLP/blob/main/Part_2_Fine_tuning_a_pretrained_backbone.ipynb\" target=\"_parent\"><img src=\"https://colab.research.google.com/assets/colab-badge.svg\" alt=\"Open In Colab\"/></a>"
      ]
    },
    {
      "cell_type": "code",
      "source": [
        "!pip install -q tensorflow tensorflow_hub tensorflow_text keras_nlp pandas scikit-learn matplotlib\n"
      ],
      "metadata": {
        "id": "l-znolWu41I9"
      },
      "execution_count": 1,
      "outputs": []
    },
    {
      "cell_type": "code",
      "source": [
        "import tensorflow as tf\n",
        "import keras_nlp\n",
        "import numpy as np\n",
        "import pandas as pd\n",
        "import matplotlib.pyplot as plt\n",
        "from sklearn.model_selection import train_test_split\n",
        "from sklearn.metrics import classification_report, confusion_matrix"
      ],
      "metadata": {
        "id": "MSU_CtqS41GR"
      },
      "execution_count": 2,
      "outputs": []
    },
    {
      "cell_type": "code",
      "source": [
        "print(f\"TensorFlow version: {tf.__version__}\")\n",
        "print(f\"Keras NLP version: {keras_nlp.__version__}\")"
      ],
      "metadata": {
        "colab": {
          "base_uri": "https://localhost:8080/"
        },
        "id": "wJt0WSxJ41Do",
        "outputId": "5b0f9f2a-d66b-4721-bcf4-5da56a8170ed"
      },
      "execution_count": 3,
      "outputs": [
        {
          "output_type": "stream",
          "name": "stdout",
          "text": [
            "TensorFlow version: 2.18.0\n",
            "Keras NLP version: 0.18.1\n"
          ]
        }
      ]
    },
    {
      "cell_type": "code",
      "source": [
        "# Optimize TensorFlow for performance\n",
        "tf.config.optimizer.set_jit(True)  # Enable XLA JIT compilation\n",
        "gpus = tf.config.list_physical_devices('GPU')\n",
        "if gpus:\n",
        "    try:\n",
        "        # Memory growth needs to be the same across GPUs\n",
        "        for gpu in gpus:\n",
        "            tf.config.experimental.set_memory_growth(gpu, True)\n",
        "    except RuntimeError as e:\n",
        "        print(e)"
      ],
      "metadata": {
        "id": "hOMEg3SE5Ict"
      },
      "execution_count": 4,
      "outputs": []
    },
    {
      "cell_type": "code",
      "source": [
        "# Section 1: Load and Prepare the Dataset\n",
        "# ---------------------------------------\n",
        "print(\"\\n=== Loading and Preparing Dataset ===\")\n",
        "\n",
        "# This dataset contains 50k movie reviews labeled as positive or negative\n",
        "print(\"Loading IMDB dataset...\")\n",
        "\n",
        "# Option 1: Using Keras datasets API with a SMALLER vocab size\n",
        "(x_train, y_train), (x_test, y_test) = tf.keras.datasets.imdb.load_data(num_words=5000)  # Reduced from 10000\n",
        "\n",
        "# Convert word indices back to words for use with BERT\n",
        "word_index = tf.keras.datasets.imdb.get_word_index()\n",
        "# Shift indices by 3 because 0, 1, and 2 are reserved indices\n",
        "word_index = {k: (v + 3) for k, v in word_index.items()}\n",
        "word_index[\"<PAD>\"] = 0\n",
        "word_index[\"<START>\"] = 1\n",
        "word_index[\"<UNK>\"] = 2\n",
        "reverse_word_index = {value: key for key, value in word_index.items()}\n",
        "\n",
        "# Function to convert the indices back to text\n",
        "def convert_indices_to_text(indices):\n",
        "    return ' '.join([reverse_word_index.get(i, '?') for i in indices])\n",
        "\n",
        "train_sample_size = 5000\n",
        "test_sample_size = 1000\n",
        "\n",
        "# Sample the data\n",
        "np.random.seed(42)\n",
        "train_indices = np.random.choice(len(x_train), train_sample_size, replace=False)\n",
        "test_indices = np.random.choice(len(x_test), test_sample_size, replace=False)\n",
        "\n",
        "x_train_sampled = [x_train[i] for i in train_indices]\n",
        "y_train_sampled = [y_train[i] for i in train_indices]\n",
        "x_test_sampled = [x_test[i] for i in test_indices]\n",
        "y_test_sampled = [y_test[i] for i in test_indices]\n",
        "\n",
        "# Convert numerical sequences back to text\n",
        "x_train_text = [convert_indices_to_text(x) for x in x_train_sampled]\n",
        "x_test_text = [convert_indices_to_text(x) for x in x_test_sampled]\n",
        "y_train = np.array(y_train_sampled)\n",
        "y_test = np.array(y_test_sampled)\n",
        "\n",
        "# Split the training data into training and validation sets\n",
        "x_train_text, x_val_text, y_train, y_val = train_test_split(\n",
        "    x_train_text, y_train, test_size=0.1, random_state=42\n",
        ")\n",
        "\n",
        "print(f\"Training set size: {len(x_train_text)}\")\n",
        "print(f\"Validation set size: {len(x_val_text)}\")\n",
        "print(f\"Test set size: {len(x_test_text)}\")"
      ],
      "metadata": {
        "colab": {
          "base_uri": "https://localhost:8080/"
        },
        "id": "_1QU8o075LxD",
        "outputId": "a0ded82c-589a-4269-c911-07d713a92b3b"
      },
      "execution_count": 5,
      "outputs": [
        {
          "output_type": "stream",
          "name": "stdout",
          "text": [
            "\n",
            "=== Loading and Preparing Dataset ===\n",
            "Loading IMDB dataset...\n",
            "Downloading data from https://storage.googleapis.com/tensorflow/tf-keras-datasets/imdb.npz\n",
            "\u001b[1m17464789/17464789\u001b[0m \u001b[32m━━━━━━━━━━━━━━━━━━━━\u001b[0m\u001b[37m\u001b[0m \u001b[1m2s\u001b[0m 0us/step\n",
            "Downloading data from https://storage.googleapis.com/tensorflow/tf-keras-datasets/imdb_word_index.json\n",
            "\u001b[1m1641221/1641221\u001b[0m \u001b[32m━━━━━━━━━━━━━━━━━━━━\u001b[0m\u001b[37m\u001b[0m \u001b[1m1s\u001b[0m 1us/step\n",
            "Training set size: 4500\n",
            "Validation set size: 500\n",
            "Test set size: 1000\n"
          ]
        }
      ]
    },
    {
      "cell_type": "code",
      "source": [
        "# Section 2: Create a BERT-based Classification Model\n",
        "# --------------------------------------------------\n",
        "print(\"\\n=== Creating BERT Classification Model ===\")\n",
        "\n",
        "classifier = keras_nlp.models.BertClassifier.from_preset(\n",
        "    \"bert_tiny_en_uncased\",  # Much smaller model than bert_base\n",
        "    num_classes=1,  # Binary classification: 1 unit with sigmoid\n",
        "    activation=\"sigmoid\"\n",
        ")\n",
        "\n",
        "tf.keras.mixed_precision.set_global_policy('mixed_float16')\n",
        "\n",
        "classifier.compile(\n",
        "    optimizer=tf.keras.optimizers.Adam(learning_rate=5e-5),  # Slightly higher learning rate\n",
        "    loss=\"binary_crossentropy\",\n",
        "    metrics=[\"accuracy\"]\n",
        ")\n",
        "\n",
        "print(\"BERT classifier created successfully!\")\n",
        "\n",
        "# Display model summary\n",
        "print(\"\\nModel Summary:\")\n",
        "classifier.summary(line_length=100)"
      ],
      "metadata": {
        "colab": {
          "base_uri": "https://localhost:8080/",
          "height": 590
        },
        "id": "L6-ZToKp5Lty",
        "outputId": "963e5f82-4ba6-4ac8-ad98-da069b65da1f"
      },
      "execution_count": 6,
      "outputs": [
        {
          "output_type": "stream",
          "name": "stdout",
          "text": [
            "\n",
            "=== Creating BERT Classification Model ===\n",
            "Downloading from https://www.kaggle.com/api/v1/models/keras/bert/keras/bert_tiny_en_uncased/2/download/config.json...\n"
          ]
        },
        {
          "output_type": "stream",
          "name": "stderr",
          "text": [
            "100%|██████████| 507/507 [00:00<00:00, 1.21MB/s]\n"
          ]
        },
        {
          "output_type": "stream",
          "name": "stdout",
          "text": [
            "BERT classifier created successfully!\n",
            "\n",
            "Model Summary:\n"
          ]
        },
        {
          "output_type": "display_data",
          "data": {
            "text/plain": [
              "\u001b[1mPreprocessor: \"bert_text_classifier_preprocessor\"\u001b[0m\n"
            ],
            "text/html": [
              "<pre style=\"white-space:pre;overflow-x:auto;line-height:normal;font-family:Menlo,'DejaVu Sans Mono',consolas,'Courier New',monospace\"><span style=\"font-weight: bold\">Preprocessor: \"bert_text_classifier_preprocessor\"</span>\n",
              "</pre>\n"
            ]
          },
          "metadata": {}
        },
        {
          "output_type": "display_data",
          "data": {
            "text/plain": [
              "┏━━━━━━━━━━━━━━━━━━━━━━━━━━━━━━━━━━━━━━━━━━━━━━━━━━━━━━━━━━┳━━━━━━━━━━━━━━━━━━━━━━━━━━━━━━━━━━━━━━━┓\n",
              "┃\u001b[1m \u001b[0m\u001b[1mLayer (type)                                            \u001b[0m\u001b[1m \u001b[0m┃\u001b[1m \u001b[0m\u001b[1m                               Config\u001b[0m\u001b[1m \u001b[0m┃\n",
              "┡━━━━━━━━━━━━━━━━━━━━━━━━━━━━━━━━━━━━━━━━━━━━━━━━━━━━━━━━━━╇━━━━━━━━━━━━━━━━━━━━━━━━━━━━━━━━━━━━━━━┩\n",
              "│ bert_tokenizer (\u001b[38;5;33mBertTokenizer\u001b[0m)                           │                    Vocab size: \u001b[38;5;34m30,522\u001b[0m │\n",
              "└──────────────────────────────────────────────────────────┴───────────────────────────────────────┘\n"
            ],
            "text/html": [
              "<pre style=\"white-space:pre;overflow-x:auto;line-height:normal;font-family:Menlo,'DejaVu Sans Mono',consolas,'Courier New',monospace\">┏━━━━━━━━━━━━━━━━━━━━━━━━━━━━━━━━━━━━━━━━━━━━━━━━━━━━━━━━━━┳━━━━━━━━━━━━━━━━━━━━━━━━━━━━━━━━━━━━━━━┓\n",
              "┃<span style=\"font-weight: bold\"> Layer (type)                                             </span>┃<span style=\"font-weight: bold\">                                Config </span>┃\n",
              "┡━━━━━━━━━━━━━━━━━━━━━━━━━━━━━━━━━━━━━━━━━━━━━━━━━━━━━━━━━━╇━━━━━━━━━━━━━━━━━━━━━━━━━━━━━━━━━━━━━━━┩\n",
              "│ bert_tokenizer (<span style=\"color: #0087ff; text-decoration-color: #0087ff\">BertTokenizer</span>)                           │                    Vocab size: <span style=\"color: #00af00; text-decoration-color: #00af00\">30,522</span> │\n",
              "└──────────────────────────────────────────────────────────┴───────────────────────────────────────┘\n",
              "</pre>\n"
            ]
          },
          "metadata": {}
        },
        {
          "output_type": "display_data",
          "data": {
            "text/plain": [
              "\u001b[1mModel: \"bert_text_classifier\"\u001b[0m\n"
            ],
            "text/html": [
              "<pre style=\"white-space:pre;overflow-x:auto;line-height:normal;font-family:Menlo,'DejaVu Sans Mono',consolas,'Courier New',monospace\"><span style=\"font-weight: bold\">Model: \"bert_text_classifier\"</span>\n",
              "</pre>\n"
            ]
          },
          "metadata": {}
        },
        {
          "output_type": "display_data",
          "data": {
            "text/plain": [
              "┏━━━━━━━━━━━━━━━━━━━━━━━━━━━━━┳━━━━━━━━━━━━━━━━━━━━━━━━━┳━━━━━━━━━━━━━━━━┳━━━━━━━━━━━━━━━━━━━━━━━━━┓\n",
              "┃\u001b[1m \u001b[0m\u001b[1mLayer (type)               \u001b[0m\u001b[1m \u001b[0m┃\u001b[1m \u001b[0m\u001b[1mOutput Shape           \u001b[0m\u001b[1m \u001b[0m┃\u001b[1m \u001b[0m\u001b[1m       Param #\u001b[0m\u001b[1m \u001b[0m┃\u001b[1m \u001b[0m\u001b[1mConnected to           \u001b[0m\u001b[1m \u001b[0m┃\n",
              "┡━━━━━━━━━━━━━━━━━━━━━━━━━━━━━╇━━━━━━━━━━━━━━━━━━━━━━━━━╇━━━━━━━━━━━━━━━━╇━━━━━━━━━━━━━━━━━━━━━━━━━┩\n",
              "│ padding_mask (\u001b[38;5;33mInputLayer\u001b[0m)   │ (\u001b[38;5;45mNone\u001b[0m, \u001b[38;5;45mNone\u001b[0m)            │              \u001b[38;5;34m0\u001b[0m │ -                       │\n",
              "├─────────────────────────────┼─────────────────────────┼────────────────┼─────────────────────────┤\n",
              "│ segment_ids (\u001b[38;5;33mInputLayer\u001b[0m)    │ (\u001b[38;5;45mNone\u001b[0m, \u001b[38;5;45mNone\u001b[0m)            │              \u001b[38;5;34m0\u001b[0m │ -                       │\n",
              "├─────────────────────────────┼─────────────────────────┼────────────────┼─────────────────────────┤\n",
              "│ token_ids (\u001b[38;5;33mInputLayer\u001b[0m)      │ (\u001b[38;5;45mNone\u001b[0m, \u001b[38;5;45mNone\u001b[0m)            │              \u001b[38;5;34m0\u001b[0m │ -                       │\n",
              "├─────────────────────────────┼─────────────────────────┼────────────────┼─────────────────────────┤\n",
              "│ bert_backbone               │ [(\u001b[38;5;45mNone\u001b[0m, \u001b[38;5;34m128\u001b[0m), (\u001b[38;5;45mNone\u001b[0m,    │      \u001b[38;5;34m4,385,920\u001b[0m │ padding_mask[\u001b[38;5;34m0\u001b[0m][\u001b[38;5;34m0\u001b[0m],     │\n",
              "│ (\u001b[38;5;33mBertBackbone\u001b[0m)              │ \u001b[38;5;45mNone\u001b[0m, \u001b[38;5;34m128\u001b[0m)]             │                │ segment_ids[\u001b[38;5;34m0\u001b[0m][\u001b[38;5;34m0\u001b[0m],      │\n",
              "│                             │                         │                │ token_ids[\u001b[38;5;34m0\u001b[0m][\u001b[38;5;34m0\u001b[0m]         │\n",
              "├─────────────────────────────┼─────────────────────────┼────────────────┼─────────────────────────┤\n",
              "│ classifier_dropout          │ (\u001b[38;5;45mNone\u001b[0m, \u001b[38;5;34m128\u001b[0m)             │              \u001b[38;5;34m0\u001b[0m │ bert_backbone[\u001b[38;5;34m0\u001b[0m][\u001b[38;5;34m0\u001b[0m]     │\n",
              "│ (\u001b[38;5;33mDropout\u001b[0m)                   │                         │                │                         │\n",
              "├─────────────────────────────┼─────────────────────────┼────────────────┼─────────────────────────┤\n",
              "│ logits (\u001b[38;5;33mDense\u001b[0m)              │ (\u001b[38;5;45mNone\u001b[0m, \u001b[38;5;34m1\u001b[0m)               │            \u001b[38;5;34m129\u001b[0m │ classifier_dropout[\u001b[38;5;34m0\u001b[0m][\u001b[38;5;34m…\u001b[0m │\n",
              "└─────────────────────────────┴─────────────────────────┴────────────────┴─────────────────────────┘\n"
            ],
            "text/html": [
              "<pre style=\"white-space:pre;overflow-x:auto;line-height:normal;font-family:Menlo,'DejaVu Sans Mono',consolas,'Courier New',monospace\">┏━━━━━━━━━━━━━━━━━━━━━━━━━━━━━┳━━━━━━━━━━━━━━━━━━━━━━━━━┳━━━━━━━━━━━━━━━━┳━━━━━━━━━━━━━━━━━━━━━━━━━┓\n",
              "┃<span style=\"font-weight: bold\"> Layer (type)                </span>┃<span style=\"font-weight: bold\"> Output Shape            </span>┃<span style=\"font-weight: bold\">        Param # </span>┃<span style=\"font-weight: bold\"> Connected to            </span>┃\n",
              "┡━━━━━━━━━━━━━━━━━━━━━━━━━━━━━╇━━━━━━━━━━━━━━━━━━━━━━━━━╇━━━━━━━━━━━━━━━━╇━━━━━━━━━━━━━━━━━━━━━━━━━┩\n",
              "│ padding_mask (<span style=\"color: #0087ff; text-decoration-color: #0087ff\">InputLayer</span>)   │ (<span style=\"color: #00d7ff; text-decoration-color: #00d7ff\">None</span>, <span style=\"color: #00d7ff; text-decoration-color: #00d7ff\">None</span>)            │              <span style=\"color: #00af00; text-decoration-color: #00af00\">0</span> │ -                       │\n",
              "├─────────────────────────────┼─────────────────────────┼────────────────┼─────────────────────────┤\n",
              "│ segment_ids (<span style=\"color: #0087ff; text-decoration-color: #0087ff\">InputLayer</span>)    │ (<span style=\"color: #00d7ff; text-decoration-color: #00d7ff\">None</span>, <span style=\"color: #00d7ff; text-decoration-color: #00d7ff\">None</span>)            │              <span style=\"color: #00af00; text-decoration-color: #00af00\">0</span> │ -                       │\n",
              "├─────────────────────────────┼─────────────────────────┼────────────────┼─────────────────────────┤\n",
              "│ token_ids (<span style=\"color: #0087ff; text-decoration-color: #0087ff\">InputLayer</span>)      │ (<span style=\"color: #00d7ff; text-decoration-color: #00d7ff\">None</span>, <span style=\"color: #00d7ff; text-decoration-color: #00d7ff\">None</span>)            │              <span style=\"color: #00af00; text-decoration-color: #00af00\">0</span> │ -                       │\n",
              "├─────────────────────────────┼─────────────────────────┼────────────────┼─────────────────────────┤\n",
              "│ bert_backbone               │ [(<span style=\"color: #00d7ff; text-decoration-color: #00d7ff\">None</span>, <span style=\"color: #00af00; text-decoration-color: #00af00\">128</span>), (<span style=\"color: #00d7ff; text-decoration-color: #00d7ff\">None</span>,    │      <span style=\"color: #00af00; text-decoration-color: #00af00\">4,385,920</span> │ padding_mask[<span style=\"color: #00af00; text-decoration-color: #00af00\">0</span>][<span style=\"color: #00af00; text-decoration-color: #00af00\">0</span>],     │\n",
              "│ (<span style=\"color: #0087ff; text-decoration-color: #0087ff\">BertBackbone</span>)              │ <span style=\"color: #00d7ff; text-decoration-color: #00d7ff\">None</span>, <span style=\"color: #00af00; text-decoration-color: #00af00\">128</span>)]             │                │ segment_ids[<span style=\"color: #00af00; text-decoration-color: #00af00\">0</span>][<span style=\"color: #00af00; text-decoration-color: #00af00\">0</span>],      │\n",
              "│                             │                         │                │ token_ids[<span style=\"color: #00af00; text-decoration-color: #00af00\">0</span>][<span style=\"color: #00af00; text-decoration-color: #00af00\">0</span>]         │\n",
              "├─────────────────────────────┼─────────────────────────┼────────────────┼─────────────────────────┤\n",
              "│ classifier_dropout          │ (<span style=\"color: #00d7ff; text-decoration-color: #00d7ff\">None</span>, <span style=\"color: #00af00; text-decoration-color: #00af00\">128</span>)             │              <span style=\"color: #00af00; text-decoration-color: #00af00\">0</span> │ bert_backbone[<span style=\"color: #00af00; text-decoration-color: #00af00\">0</span>][<span style=\"color: #00af00; text-decoration-color: #00af00\">0</span>]     │\n",
              "│ (<span style=\"color: #0087ff; text-decoration-color: #0087ff\">Dropout</span>)                   │                         │                │                         │\n",
              "├─────────────────────────────┼─────────────────────────┼────────────────┼─────────────────────────┤\n",
              "│ logits (<span style=\"color: #0087ff; text-decoration-color: #0087ff\">Dense</span>)              │ (<span style=\"color: #00d7ff; text-decoration-color: #00d7ff\">None</span>, <span style=\"color: #00af00; text-decoration-color: #00af00\">1</span>)               │            <span style=\"color: #00af00; text-decoration-color: #00af00\">129</span> │ classifier_dropout[<span style=\"color: #00af00; text-decoration-color: #00af00\">0</span>][<span style=\"color: #00af00; text-decoration-color: #00af00\">…</span> │\n",
              "└─────────────────────────────┴─────────────────────────┴────────────────┴─────────────────────────┘\n",
              "</pre>\n"
            ]
          },
          "metadata": {}
        },
        {
          "output_type": "display_data",
          "data": {
            "text/plain": [
              "\u001b[1m Total params: \u001b[0m\u001b[38;5;34m4,386,049\u001b[0m (16.73 MB)\n"
            ],
            "text/html": [
              "<pre style=\"white-space:pre;overflow-x:auto;line-height:normal;font-family:Menlo,'DejaVu Sans Mono',consolas,'Courier New',monospace\"><span style=\"font-weight: bold\"> Total params: </span><span style=\"color: #00af00; text-decoration-color: #00af00\">4,386,049</span> (16.73 MB)\n",
              "</pre>\n"
            ]
          },
          "metadata": {}
        },
        {
          "output_type": "display_data",
          "data": {
            "text/plain": [
              "\u001b[1m Trainable params: \u001b[0m\u001b[38;5;34m4,386,049\u001b[0m (16.73 MB)\n"
            ],
            "text/html": [
              "<pre style=\"white-space:pre;overflow-x:auto;line-height:normal;font-family:Menlo,'DejaVu Sans Mono',consolas,'Courier New',monospace\"><span style=\"font-weight: bold\"> Trainable params: </span><span style=\"color: #00af00; text-decoration-color: #00af00\">4,386,049</span> (16.73 MB)\n",
              "</pre>\n"
            ]
          },
          "metadata": {}
        },
        {
          "output_type": "display_data",
          "data": {
            "text/plain": [
              "\u001b[1m Non-trainable params: \u001b[0m\u001b[38;5;34m0\u001b[0m (0.00 B)\n"
            ],
            "text/html": [
              "<pre style=\"white-space:pre;overflow-x:auto;line-height:normal;font-family:Menlo,'DejaVu Sans Mono',consolas,'Courier New',monospace\"><span style=\"font-weight: bold\"> Non-trainable params: </span><span style=\"color: #00af00; text-decoration-color: #00af00\">0</span> (0.00 B)\n",
              "</pre>\n"
            ]
          },
          "metadata": {}
        }
      ]
    },
    {
      "cell_type": "code",
      "source": [
        "# Section 3: Fine-tune BERT for Sentiment Analysis (FASTER VERSION)\n",
        "# -----------------------------------------------\n",
        "print(\"\\n=== Fast Fine-tuning of BERT for Sentiment Analysis ===\")\n",
        "\n",
        "# Set up larger batch size for speedup\n",
        "batch_size = 32  # Increased from 16\n",
        "\n",
        "classifier.backbone.trainable = True\n",
        "\n",
        "# Train for fewer epochs\n",
        "history = classifier.fit(\n",
        "    x_train_text,\n",
        "    y_train,\n",
        "    epochs=1,  # Reduced to just 1 epoch\n",
        "    batch_size=batch_size,\n",
        "    validation_data=(x_val_text, y_val),\n",
        "    verbose=1\n",
        ")"
      ],
      "metadata": {
        "colab": {
          "base_uri": "https://localhost:8080/"
        },
        "id": "jjzaAQ_S5Pdf",
        "outputId": "710dfe03-84d9-48e3-d8f8-a7651d02ebed"
      },
      "execution_count": 7,
      "outputs": [
        {
          "output_type": "stream",
          "name": "stdout",
          "text": [
            "\n",
            "=== Fast Fine-tuning of BERT for Sentiment Analysis ===\n",
            "\u001b[1m141/141\u001b[0m \u001b[32m━━━━━━━━━━━━━━━━━━━━\u001b[0m\u001b[37m\u001b[0m \u001b[1m40s\u001b[0m 161ms/step - accuracy: 0.5576 - loss: 0.6838 - val_accuracy: 0.6640 - val_loss: 0.6224\n"
          ]
        }
      ]
    },
    {
      "cell_type": "code",
      "source": [
        "# Section 4: Evaluate the Fine-tuned Model\n",
        "# ---------------------------------------\n",
        "print(\"\\n=== Evaluating the Fine-tuned Model ===\")\n",
        "\n",
        "# 4.1 Make predictions on the test set (with larger batch size)\n",
        "y_pred_proba = classifier.predict(x_test_text, batch_size=batch_size)\n",
        "y_pred = (y_pred_proba > 0.5).astype(int)\n",
        "\n",
        "# 4.2 Calculate and print metrics\n",
        "print(\"\\nClassification Report:\")\n",
        "print(classification_report(y_test, y_pred))\n",
        "\n",
        "# 4.3 Generate and plot confusion matrix\n",
        "cm = confusion_matrix(y_test, y_pred)\n",
        "plt.figure(figsize=(8, 6))\n",
        "plt.imshow(cm, interpolation='nearest', cmap=plt.cm.Blues)\n",
        "plt.title('Confusion Matrix')\n",
        "plt.colorbar()\n",
        "tick_marks = np.arange(2)\n",
        "plt.xticks(tick_marks, ['Negative', 'Positive'], rotation=45)\n",
        "plt.yticks(tick_marks, ['Negative', 'Positive'])\n",
        "\n",
        "# Add text annotations to the confusion matrix\n",
        "thresh = cm.max() / 2\n",
        "for i in range(cm.shape[0]):\n",
        "    for j in range(cm.shape[1]):\n",
        "        plt.text(j, i, format(cm[i, j], 'd'),\n",
        "                horizontalalignment=\"center\",\n",
        "                color=\"white\" if cm[i, j] > thresh else \"black\")\n",
        "\n",
        "plt.tight_layout()\n",
        "plt.ylabel('True label')\n",
        "plt.xlabel('Predicted label')\n",
        "plt.savefig('confusion_matrix.png')\n",
        "plt.show()"
      ],
      "metadata": {
        "colab": {
          "base_uri": "https://localhost:8080/",
          "height": 869
        },
        "id": "NLzmEoka5Pap",
        "outputId": "7ad3d92c-6a43-4190-e25c-e675ff14e34e"
      },
      "execution_count": 8,
      "outputs": [
        {
          "output_type": "stream",
          "name": "stdout",
          "text": [
            "\n",
            "=== Evaluating the Fine-tuned Model ===\n",
            "\u001b[1m32/32\u001b[0m \u001b[32m━━━━━━━━━━━━━━━━━━━━\u001b[0m\u001b[37m\u001b[0m \u001b[1m3s\u001b[0m 60ms/step\n",
            "\n",
            "Classification Report:\n",
            "              precision    recall  f1-score   support\n",
            "\n",
            "           0       0.73      0.64      0.68       505\n",
            "           1       0.67      0.76      0.71       495\n",
            "\n",
            "    accuracy                           0.70      1000\n",
            "   macro avg       0.70      0.70      0.70      1000\n",
            "weighted avg       0.70      0.70      0.70      1000\n",
            "\n"
          ]
        },
        {
          "output_type": "display_data",
          "data": {
            "text/plain": [
              "<Figure size 800x600 with 2 Axes>"
            ],
            "image/png": "[encoded data removed]"
          },
          "metadata": {}
        }
      ]
    },
    {
      "cell_type": "code",
      "execution_count": 9,
      "metadata": {
        "colab": {
          "base_uri": "https://localhost:8080/"
        },
        "id": "DpDQ3OaZkr6K",
        "outputId": "1ba72326-83c1-418f-e57d-fd72f5ad9e49"
      },
      "outputs": [
        {
          "output_type": "stream",
          "name": "stdout",
          "text": [
            "\n",
            "=== Testing with New Examples ===\n",
            "\u001b[1m1/1\u001b[0m \u001b[32m━━━━━━━━━━━━━━━━━━━━\u001b[0m\u001b[37m\u001b[0m \u001b[1m1s\u001b[0m 1s/step\n",
            "\n",
            "Predictions for new reviews:\n",
            "Review: This movie was excellent! The acting was incredible and the plot was engagi...\n",
            "Prediction: Positive (Confidence: 0.5294)\n",
            "--------------------------------------------------\n",
            "Review: Terrible film. Bad acting, confusing plot, and the ending made no sense.\n",
            "Prediction: Negative (Confidence: 0.5017)\n",
            "--------------------------------------------------\n",
            "Review: The movie was okay. Some parts were good, but overall it was just average.\n",
            "Prediction: Negative (Confidence: 0.5415)\n",
            "--------------------------------------------------\n",
            "Review: I absolutely loved this film! It's definitely going on my list of favorites...\n",
            "Prediction: Positive (Confidence: 0.5519)\n",
            "--------------------------------------------------\n",
            "Review: Waste of time and money. Don't bother watching this disaster.\n",
            "Prediction: Negative (Confidence: 0.5496)\n",
            "--------------------------------------------------\n"
          ]
        }
      ],
      "source": [
        "# Section 5: Test with New Examples\n",
        "# --------------------------------\n",
        "print(\"\\n=== Testing with New Examples ===\")\n",
        "\n",
        "# 5.1 Define new example reviews\n",
        "new_reviews = [\n",
        "    \"This movie was excellent! The acting was incredible and the plot was engaging throughout.\",\n",
        "    \"Terrible film. Bad acting, confusing plot, and the ending made no sense.\",\n",
        "    \"The movie was okay. Some parts were good, but overall it was just average.\",\n",
        "    \"I absolutely loved this film! It's definitely going on my list of favorites.\",\n",
        "    \"Waste of time and money. Don't bother watching this disaster.\"\n",
        "]\n",
        "\n",
        "# 5.2 Make predictions on new examples (with larger batch size)\n",
        "new_predictions = classifier.predict(new_reviews, batch_size=5)  # Batch all examples together\n",
        "\n",
        "# 5.3 Display results\n",
        "print(\"\\nPredictions for new reviews:\")\n",
        "for i, review in enumerate(new_reviews):\n",
        "    # Truncate long reviews for display\n",
        "    display_review = review[:75] + '...' if len(review) > 75 else review\n",
        "    sentiment = \"Positive\" if new_predictions[i][0] > 0.5 else \"Negative\"\n",
        "    confidence = new_predictions[i][0] if sentiment == \"Positive\" else 1 - new_predictions[i][0]\n",
        "    print(f\"Review: {display_review}\")\n",
        "    print(f\"Prediction: {sentiment} (Confidence: {confidence:.4f})\")\n",
        "    print(\"-\" * 50)"
      ]
    }
  ],
  "metadata": {
    "accelerator": "GPU",
    "colab": {
      "gpuType": "T4",
      "provenance": [],
      "authorship_tag": "ABX9TyPwdPNQ2nJkxlNPu+8QfUSI",
      "include_colab_link": true
    },
    "kernelspec": {
      "display_name": "Python 3",
      "name": "python3"
    },
    "language_info": {
      "name": "python"
    }
  },
  "nbformat": 4,
  "nbformat_minor": 0
}